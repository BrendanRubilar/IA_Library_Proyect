{
 "cells": [
  {
   "cell_type": "markdown",
   "metadata": {},
   "source": [
    "## Importar librerias"
   ]
  },
  {
   "cell_type": "code",
   "execution_count": 2,
   "metadata": {},
   "outputs": [],
   "source": [
    "# Manejo de datos\n",
    "import numpy as np\n",
    "import pandas as pd"
   ]
  },
  {
   "cell_type": "markdown",
   "metadata": {},
   "source": [
    "## Lectura Dataset"
   ]
  },
  {
   "cell_type": "code",
   "execution_count": null,
   "metadata": {},
   "outputs": [],
   "source": [
    "# Cargar el archivo Excel\n",
    "df = pd.read_excel(\"Datasets/accesos.xlsx\")\n",
    "\n",
    "# Leer días de vacaciones desde un archivo txt\n",
    "with open('Datasets/dias_vacaciones.txt', 'r') as f:\n",
    "    dias_vacaciones = [pd.to_datetime(line.strip(), errors='coerce') for line in f if line.strip()]\n",
    "\n",
    "# Asegurar que la fecha esté en formato datetime\n",
    "df['Fecha Completa'] = pd.to_datetime(df['Fecha Completa'])\n",
    "\n",
    "# Crear variables temporales relevantes\n",
    "df['Día'] = df['Fecha Completa'].dt.day\n",
    "df['Mes'] = df['Fecha Completa'].dt.month\n",
    "df['Año'] = df['Fecha Completa'].dt.year\n",
    "\n",
    "# Codificar Jornada, Pregrado y Postgrado\n",
    "df['Jornada'] = df['Jornada'].astype('category').cat.codes\n",
    "df['Pregrado'] = df['Pregrado'].map({'SI': 1, 'NO': 0})\n",
    "df['Postgrado'] = df['Postgrado'].map({'SI': 1, 'NO': 0})\n",
    "\n",
    "# Crear una clave de fecha sin hora\n",
    "df['Fecha'] = df['Fecha Completa'].dt.date\n",
    "\n",
    "# Crear columna exógena de vacaciones\n",
    "df['Vacaciones'] = df['Fecha Completa'].dt.normalize().isin(dias_vacaciones).astype(int)\n",
    "\n",
    "# Agrupar y contar accesos\n",
    "daily_counts = df.groupby(['Fecha', 'Día', 'Mes', 'Año']).agg({\n",
    "    'Pregrado': 'sum',\n",
    "    'Postgrado': 'sum',\n",
    "    'Fecha Completa': 'count',  # esto cuenta los accesos\n",
    "    'Vacaciones': 'max'  # max para saber si es día de vacaciones\n",
    "}).rename(columns={'Fecha Completa': 'Accesos'}).reset_index()\n",
    "\n",
    "# Crear rango completo de fechas\n",
    "fecha_inicio = df['Fecha'].min()\n",
    "fecha_fin = df['Fecha'].max()\n",
    "fechas_completas = pd.DataFrame({'Fecha': pd.date_range(fecha_inicio, fecha_fin)})\n",
    "\n",
    "# Extraer día, mes y año para el rango completo\n",
    "fechas_completas['Día'] = fechas_completas['Fecha'].dt.day\n",
    "fechas_completas['Mes'] = fechas_completas['Fecha'].dt.month\n",
    "fechas_completas['Año'] = fechas_completas['Fecha'].dt.year\n",
    "fechas_completas['Fecha'] = fechas_completas['Fecha'].dt.date \n",
    "\n",
    "# Marcar vacaciones en el rango completo\n",
    "fechas_completas['Vacaciones'] = pd.to_datetime(fechas_completas['Fecha']).isin(dias_vacaciones).astype(int)\n",
    "\n",
    "# Unir con daily_counts\n",
    "daily_counts_full = fechas_completas.merge(\n",
    "    daily_counts.drop(columns=['Vacaciones']),  # quitamos la columna para evitar duplicados\n",
    "    on=['Fecha', 'Día', 'Mes', 'Año'],\n",
    "    how='left'\n",
    ")\n",
    "\n",
    "# Rellenar NaN con 0 en las columnas numéricas\n",
    "for col in ['Pregrado', 'Postgrado', 'Accesos']:\n",
    "    daily_counts_full[col] = daily_counts_full[col].fillna(0).astype(int)\n"
   ]
  }
 ],
 "metadata": {
  "kernelspec": {
   "display_name": "Python 3",
   "language": "python",
   "name": "python3"
  },
  "language_info": {
   "codemirror_mode": {
    "name": "ipython",
    "version": 3
   },
   "file_extension": ".py",
   "mimetype": "text/x-python",
   "name": "python",
   "nbconvert_exporter": "python",
   "pygments_lexer": "ipython3",
   "version": "3.10.0"
  }
 },
 "nbformat": 4,
 "nbformat_minor": 5
}

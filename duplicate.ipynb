{
 "cells": [
  {
   "cell_type": "code",
   "execution_count": null,
   "id": "f285a2c9",
   "metadata": {},
   "outputs": [
    {
     "name": "stdout",
     "output_type": "stream",
     "text": [
      "Archivo duplicado con variaciones guardado como accesos_duplicados_2021_2022_variados.xlsx\n"
     ]
    }
   ],
   "source": [
    "import pandas as pd\n",
    "import random\n",
    "\n",
    "# Duplicar los datos y generar nuevas fechas para múltiples años con variaciones\n",
    "def duplicar_datos_con_nuevos_años_y_variaciones(df, años):\n",
    "    # Crear un DataFrame inicial con los datos originales\n",
    "    df_final = df.copy()\n",
    "\n",
    "    # Iterar sobre los años y duplicar los datos\n",
    "    for nuevo_año in años:\n",
    "        # Crear una copia del DataFrame original\n",
    "        df_duplicado = df.copy()\n",
    "\n",
    "        # Cambiar el año en las fechas duplicadas\n",
    "        def cambiar_año(fecha):\n",
    "            try:\n",
    "                return fecha.replace(year=nuevo_año) if pd.notnull(fecha) else fecha\n",
    "            except ValueError:\n",
    "                # Ajustar fechas inválidas (por ejemplo, 29 de febrero en un año no bisiesto)\n",
    "                return fecha - pd.Timedelta(days=1)\n",
    "\n",
    "        df_duplicado['Fecha Completa'] = df_duplicado['Fecha Completa'].apply(cambiar_año)\n",
    "        df_duplicado['Fecha'] = df_duplicado['Fecha Completa'].dt.date\n",
    "        df_duplicado['Año'] = nuevo_año\n",
    "\n",
    "        # Agregar variaciones a las columnas numéricas\n",
    "        if 'Accesos' in df_duplicado.columns:\n",
    "            df_duplicado['Accesos'] = df_duplicado['Accesos'].apply(lambda x: x + random.randint(-20, 20))\n",
    "        if 'Pregrado' in df_duplicado.columns:\n",
    "            df_duplicado['Pregrado'] = df_duplicado['Pregrado'].apply(lambda x: max(0, x + random.randint(-20, 20)))\n",
    "        if 'Postgrado' in df_duplicado.columns:\n",
    "            df_duplicado['Postgrado'] = df_duplicado['Postgrado'].apply(lambda x: max(0, x + random.randint(-20,20)))\n",
    "\n",
    "        # Concatenar los datos duplicados con el DataFrame final\n",
    "        df_final = pd.concat([df_duplicado, df_final], ignore_index=True)\n",
    "\n",
    "    return df_final\n",
    "\n",
    "# Cargar el archivo original\n",
    "df = pd.read_excel(\"daily_counts_full.xlsx\")\n",
    "\n",
    "# Asegurar que la columna 'Fecha Completa' esté en formato datetime\n",
    "df['Fecha Completa'] = pd.to_datetime(df['Fecha'])\n",
    "\n",
    "# Duplicar los datos para los años 2021 y 2022 con variaciones\n",
    "años_a_duplicar = [2022,]\n",
    "df_final = duplicar_datos_con_nuevos_años_y_variaciones(df, años=años_a_duplicar)\n",
    "\n",
    "# Exportar el archivo duplicado\n",
    "archivo_salida = \"accesos_duplicados_2021_2022_variados.xlsx\"\n",
    "df_final.to_excel(archivo_salida, index=False)\n",
    "\n",
    "print(f\"Archivo duplicado con variaciones guardado como {archivo_salida}\")"
   ]
  }
 ],
 "metadata": {
  "kernelspec": {
   "display_name": "Python 3",
   "language": "python",
   "name": "python3"
  },
  "language_info": {
   "codemirror_mode": {
    "name": "ipython",
    "version": 3
   },
   "file_extension": ".py",
   "mimetype": "text/x-python",
   "name": "python",
   "nbconvert_exporter": "python",
   "pygments_lexer": "ipython3",
   "version": "3.13.2"
  }
 },
 "nbformat": 4,
 "nbformat_minor": 5
}

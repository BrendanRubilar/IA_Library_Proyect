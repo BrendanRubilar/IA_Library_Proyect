{
 "cells": [
  {
   "cell_type": "code",
   "execution_count": 11,
   "id": "f285a2c9",
   "metadata": {},
   "outputs": [
    {
     "name": "stdout",
     "output_type": "stream",
     "text": [
      "Archivo duplicado con variaciones guardado como Datasets/accesos_duplicados1.xlsx\n"
     ]
    }
   ],
   "source": [
    "import pandas as pd\n",
    "import random\n",
    "\n",
    "# Duplicar los datos y generar nuevas fechas para múltiples años con variaciones\n",
    "def duplicar_datos_con_nuevos_años_y_variaciones(df, años):\n",
    "    df_final = df.copy()\n",
    "\n",
    "    for nuevo_año in años:\n",
    "        df_duplicado = df.copy()\n",
    "\n",
    "        # Cambiar el año en las fechas duplicadas\n",
    "        def cambiar_año(fecha):\n",
    "            try:\n",
    "                return fecha.replace(year=nuevo_año) if pd.notnull(fecha) else fecha\n",
    "            except ValueError:\n",
    "                return fecha - pd.Timedelta(days=1)\n",
    "\n",
    "        df_duplicado['Fecha'] = pd.to_datetime(df_duplicado['Fecha'])\n",
    "        df_duplicado['Fecha'] = df_duplicado['Fecha'].apply(cambiar_año)\n",
    "        df_duplicado['Año'] = nuevo_año\n",
    "\n",
    "        # Agregar variaciones a las columnas numéricas\n",
    "        if 'Accesos' in df_duplicado.columns:\n",
    "            df_duplicado['Accesos'] = df_duplicado['Accesos'].apply(lambda x: max(0, x + random.randint(10, 200)))\n",
    "        if 'Pregrado' in df_duplicado.columns:\n",
    "            df_duplicado['Pregrado'] = df_duplicado['Pregrado'].apply(lambda x: max(0, x + random.randint(0, 20)))\n",
    "        if 'Postgrado' in df_duplicado.columns:\n",
    "            df_duplicado['Postgrado'] = df_duplicado['Postgrado'].apply(lambda x: max(0, x + random.randint(0,20)))\n",
    "\n",
    "        df_final = pd.concat([df_duplicado, df_final], ignore_index=True)\n",
    "\n",
    "    return df_final\n",
    "\n",
    "# Cargar el archivo original\n",
    "df = pd.read_excel(\"Datasets/daily_counts_full.xlsx\")\n",
    "df['Fecha'] = pd.to_datetime(df['Fecha'])\n",
    "\n",
    "# Duplicar los datos para los años 2023 y 2022 con variaciones\n",
    "años_a_duplicar = [2023, 2022]\n",
    "df_final = duplicar_datos_con_nuevos_años_y_variaciones(df, años=años_a_duplicar)\n",
    "\n",
    "# Ordenar por fecha de más antiguo a más reciente\n",
    "df_final = df_final.sort_values('Fecha').reset_index(drop=True)\n",
    "# Exportar el archivo duplicado ordenado\n",
    "df_final = df_final.drop_duplicates(subset=['Fecha'], keep='first').reset_index(drop=True)\n",
    "archivo_salida = \"Datasets/accesos_duplicados1.xlsx\"\n",
    "df_final.to_excel(archivo_salida, index=False)\n",
    "\n",
    "print(f\"Archivo duplicado con variaciones guardado como {archivo_salida}\")"
   ]
  }
 ],
 "metadata": {
  "kernelspec": {
   "display_name": "Python 3",
   "language": "python",
   "name": "python3"
  },
  "language_info": {
   "codemirror_mode": {
    "name": "ipython",
    "version": 3
   },
   "file_extension": ".py",
   "mimetype": "text/x-python",
   "name": "python",
   "nbconvert_exporter": "python",
   "pygments_lexer": "ipython3",
   "version": "3.12.3"
  }
 },
 "nbformat": 4,
 "nbformat_minor": 5
}
